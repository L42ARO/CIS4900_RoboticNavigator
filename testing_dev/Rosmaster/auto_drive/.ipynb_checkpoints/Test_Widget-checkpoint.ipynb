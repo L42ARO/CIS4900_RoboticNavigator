{
 "cells": [
  {
   "cell_type": "code",
   "execution_count": 2,
   "id": "prompt-suicide",
   "metadata": {},
   "outputs": [
    {
     "data": {
      "application/vnd.jupyter.widget-view+json": {
       "model_id": "c9ff34453e93496cbf196634a7e2734d",
       "version_major": 2,
       "version_minor": 0
      },
      "text/plain": [
       "ClickableImageWidget(value=b'', height='480', width='640')"
      ]
     },
     "metadata": {},
     "output_type": "display_data"
    }
   ],
   "source": [
    "import ipywidgets\n",
    "from IPython.display import display\n",
    "\n",
    "from jupyter_clickable_image_widget import ClickableImageWidget\n",
    "\n",
    "image_widget = ClickableImageWidget(width=640, height=480)\n",
    "\n",
    "def on_message(_, content, ignore):\n",
    "    if content['event'] == 'click':\n",
    "        data = content['eventData']\n",
    "        alt_key = data['altKey']\n",
    "        ctrl_key = data['ctrlKey']\n",
    "        shift_key = data['shiftKey']\n",
    "        x = data['offsetX']\n",
    "        y = data['offsetY']\n",
    "        print(\"x=\", x, \"y=\", y)\n",
    "        \n",
    "        # do something...\n",
    "        \n",
    "image_widget.on_msg(on_message)\n",
    "display(image_widget)"
   ]
  },
  {
   "cell_type": "code",
   "execution_count": null,
   "id": "radical-consciousness",
   "metadata": {},
   "outputs": [],
   "source": []
  }
 ],
 "metadata": {
  "kernelspec": {
   "display_name": "Python 3",
   "language": "python",
   "name": "python3"
  },
  "language_info": {
   "codemirror_mode": {
    "name": "ipython",
    "version": 3
   },
   "file_extension": ".py",
   "mimetype": "text/x-python",
   "name": "python",
   "nbconvert_exporter": "python",
   "pygments_lexer": "ipython3",
   "version": "3.6.9"
  },
  "vscode": {
   "interpreter": {
    "hash": "81794d4967e6c3204c66dcd87b604927b115b27c00565d3d43f05ba2f3a2cb0d"
   }
  }
 },
 "nbformat": 4,
 "nbformat_minor": 5
}
